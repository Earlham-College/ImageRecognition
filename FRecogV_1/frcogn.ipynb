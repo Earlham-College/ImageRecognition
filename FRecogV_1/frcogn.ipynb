{
 "cells": [
  {
   "cell_type": "markdown",
   "metadata": {},
   "source": [
    "<div id=\"header\"><p style=\"color:#3364ff; text-align:center; font-weight:bold; font-family:verdana; font-size:25px;\">Image Recognition</p></div>\n",
    "\n",
    "[licenseBDG]: https://img.shields.io/badge/License-CC-orange?style=plastic\n",
    "[license]: https://creativecommons.org/licenses/by-nc-sa/3.0/deed.en\n",
    "\n",
    "[mywebsiteBDG]:https://img.shields.io/badge/website-jaorduz.github.io-0abeeb?style=plastic\n",
    "[mywebsite]: https://jaorduz.github.io/\n",
    "\n",
    "[mygithubBDG-jaorduz]: https://img.shields.io/badge/jaorduz-repos-blue?logo=github&label=jaorduz&style=plastic\n",
    "[mygithub-jaorduz]: https://github.com/jaorduz/\n",
    "\n",
    "[mygithubBDG-jaorduc]: https://img.shields.io/badge/jaorduc-repos-blue?logo=github&label=jaorduc&style=plastic \n",
    "[mygithub-jaorduc]: https://github.com/jaorduc/\n",
    "\n",
    "[myXprofileBDG]: https://img.shields.io/static/v1?label=Follow&message=jaorduc&color=2ea44f&style=plastic&logo=X&logoColor=black\n",
    "[myXprofile]:https://twitter.com/jaorduc\n",
    "\n",
    "\n",
    "[![website - jaorduz.github.io][mywebsiteBDG]][mywebsite]\n",
    "[![Github][mygithubBDG-jaorduz]][mygithub-jaorduz]\n",
    "[![Github][mygithubBDG-jaorduc]][mygithub-jaorduc]\n",
    "[![Follow @jaorduc][myXprofileBDG]][myXprofile]\n",
    "[![CC License][licenseBDG]][license]\n",
    "\n",
    "---"
   ]
  },
  {
   "cell_type": "code",
   "execution_count": 1,
   "metadata": {},
   "outputs": [],
   "source": [
    "import cv2"
   ]
  },
  {
   "cell_type": "code",
   "execution_count": 2,
   "metadata": {},
   "outputs": [],
   "source": [
    "from PIL import Image\n",
    "import face_recognition"
   ]
  },
  {
   "cell_type": "code",
   "execution_count": 3,
   "metadata": {},
   "outputs": [],
   "source": [
    "image = face_recognition.load_image_file(\"messiB.jpg\")\n",
    "face_locations = face_recognition.face_locations(image)"
   ]
  },
  {
   "cell_type": "code",
   "execution_count": 4,
   "metadata": {},
   "outputs": [
    {
     "data": {
      "text/plain": [
       "[(59, 80, 122, 17),\n",
       " (90, 510, 141, 458),\n",
       " (78, 354, 130, 302),\n",
       " (98, 439, 142, 395),\n",
       " (95, 204, 147, 152),\n",
       " (103, 266, 146, 223),\n",
       " (84, 129, 136, 78),\n",
       " (66, 591, 129, 529)]"
      ]
     },
     "execution_count": 4,
     "metadata": {},
     "output_type": "execute_result"
    }
   ],
   "source": [
    "face_locations"
   ]
  },
  {
   "cell_type": "code",
   "execution_count": 5,
   "metadata": {},
   "outputs": [
    {
     "name": "stdout",
     "output_type": "stream",
     "text": [
      "I found 8 face(s) in this photograph.\n",
      "A face is located at pixel location\n",
      "Top: 59, Left: 17,\n",
      "Bottom: 122, Right: 80\n",
      "A face is located at pixel location\n",
      "Top: 90, Left: 458,\n",
      "Bottom: 141, Right: 510\n",
      "A face is located at pixel location\n",
      "Top: 78, Left: 302,\n",
      "Bottom: 130, Right: 354\n",
      "A face is located at pixel location\n",
      "Top: 98, Left: 395,\n",
      "Bottom: 142, Right: 439\n",
      "A face is located at pixel location\n",
      "Top: 95, Left: 152,\n",
      "Bottom: 147, Right: 204\n",
      "A face is located at pixel location\n",
      "Top: 103, Left: 223,\n",
      "Bottom: 146, Right: 266\n",
      "A face is located at pixel location\n",
      "Top: 84, Left: 78,\n",
      "Bottom: 136, Right: 129\n",
      "A face is located at pixel location\n",
      "Top: 66, Left: 529,\n",
      "Bottom: 129, Right: 591\n"
     ]
    }
   ],
   "source": [
    "print(\"I found {} face(s) in this photograph.\".format(len(face_locations)))\n",
    "for face_location in face_locations:\n",
    "\n",
    "    # Print the location of each face in this image\n",
    "    top, right, bottom, left = face_location\n",
    "    print(\"A face is located at pixel location\\nTop: {}, Left: {},\\nBottom: {}, Right: {}\".format(top, left, bottom, right))\n",
    "\n",
    "    # You can access the actual face itself like this:\n",
    "    face_image = image[top:bottom, left:right]\n",
    "    pil_image = Image.fromarray(face_image)\n",
    "    pil_image.show()"
   ]
  },
  {
   "cell_type": "code",
   "execution_count": null,
   "metadata": {},
   "outputs": [],
   "source": [
    "import sys \n",
    "print(\"Python version\",sys.version);\n",
    "print(\"CV version:\",cv2.__version__)\n",
    "print(\"Face recognition version:\",face_recognition.__version__)\n"
   ]
  },
  {
   "cell_type": "markdown",
   "metadata": {},
   "source": [
    "# References\n",
    "[1] https://github.com/ageitgey/face_recognition\n",
    "\n",
    "[2] https://github.com/ageitgey/face_recognition/blob/master/examples/find_faces_in_picture.py\n",
    "\n",
    "[3] https://github.com/ageitgey/face_recognition/blob/master/examples/find_faces_in_picture_cnn.py"
   ]
  },
  {
   "cell_type": "markdown",
   "metadata": {},
   "source": []
  }
 ],
 "metadata": {
  "kernelspec": {
   "display_name": "Py39",
   "language": "python",
   "name": "python3"
  },
  "language_info": {
   "codemirror_mode": {
    "name": "ipython",
    "version": 3
   },
   "file_extension": ".py",
   "mimetype": "text/x-python",
   "name": "python",
   "nbconvert_exporter": "python",
   "pygments_lexer": "ipython3",
   "version": "3.9.21"
  }
 },
 "nbformat": 4,
 "nbformat_minor": 2
}
